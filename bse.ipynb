import quandl
import pandas as pd
import numpy as np
import chart_studio.plotly as py
import plotly.graph_objects as go

