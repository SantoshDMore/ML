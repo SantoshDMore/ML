import quandl
import pandas as pd
import numpy as np
import chart_studio.plotly as py
import plotly.graph_objects as go

quandl.ApiConfig.api_key = 'AhKf3ePM_7FLhQxJBhpm'
df1 = quandl.get('BSE/BOM507685', start_date='2015-01-01', end_date='2020-10-24')
df2 = quandl.get('BSE/BOM500209', start_date='2015-01-01', end_date='2020-10-24')
df3 = quandl.get('BSE/BOM532540', start_date='2015-01-01', end_date='2020-10-24')
df4 = quandl.get('BSE/BOM532281', start_date='2015-01-01', end_date='2020-10-24')
df5 = quandl.get('BSE/BOM532777', start_date='2015-01-01', end_date='2020-10-24')

fig = go.Figure([go.Scatter(x=df1.index,y=df1['Close'],name="Wipro")])
fig.add_scatter(x=df2.index,y=df2['Close'],name="Infosys")
fig.add_scatter(x=df3.index,y=df3['Close'],name="TCS")
fig.add_scatter(x=df4.index,y=df4['Close'],name="HCL")
fig.add_scatter(x=df5.index,y=df5['Close'],name="Zomato")
                
fig.show()
